{
 "cells": [
  {
   "cell_type": "code",
   "execution_count": 2,
   "metadata": {},
   "outputs": [
    {
     "name": "stderr",
     "output_type": "stream",
     "text": [
      "/root/anaconda3/lib/python3.11/site-packages/umap/plot.py:203: NumbaDeprecationWarning: \u001b[1mThe keyword argument 'nopython=False' was supplied. From Numba 0.59.0 the default is being changed to True and use of 'nopython=False' will raise a warning as the argument will have no effect. See https://numba.readthedocs.io/en/stable/reference/deprecation.html#deprecation-of-object-mode-fall-back-behaviour-when-using-jit for details.\u001b[0m\n",
      "  @numba.jit(nopython=False)\n"
     ]
    }
   ],
   "source": [
    "import sklearn.datasets\n",
    "import pandas as pd\n",
    "import numpy as np\n",
    "import umap\n",
    "from sklearn.utils import Bunch\n",
    "import umap.plot\n",
    "\n",
    "from dataclasses import dataclass"
   ]
  },
  {
   "cell_type": "code",
   "execution_count": 3,
   "metadata": {},
   "outputs": [],
   "source": [
    "# Data Preprocessing\n",
    "#\n",
    "x = np.load(\"encodings_dict.npy\", allow_pickle=True).item()\n",
    "\n",
    "encodings_data = {\"data\": [], \"labels\": []}\n",
    "\n",
    "for i, v in enumerate(x.values()):\n",
    "    for v_ in v:\n",
    "        encodings_data[\"data\"].append(v_)\n",
    "        encodings_data[\"labels\"].append(i)\n",
    "        \n",
    "encodings_data[\"data\"] = np.array(encodings_data[\"data\"])\n",
    "encodings_data[\"labels\"] = np.array(encodings_data[\"labels\"])\n",
    "\n",
    "encodings_data = Bunch(data = encodings_data[\"data\"], labels=encodings_data[\"labels\"])"
   ]
  },
  {
   "cell_type": "code",
   "execution_count": 4,
   "metadata": {},
   "outputs": [],
   "source": [
    "@dataclass\n",
    "class UMAP_config:\n",
    "    n_neighbors: int = 15\n",
    "    \"\"\"Default value is 15 also for UMAP\"\"\"\n",
    "    min_dist: float = 0.1\n",
    "    \"\"\"Default value for UMAP is 0.1\"\"\"\n",
    "    n_components: int = 2\n",
    "    \"\"\"Dimension of the target space, should always be 2\"\"\"\n",
    "    metric: str = \"euclidean\""
   ]
  },
  {
   "cell_type": "code",
   "execution_count": 5,
   "metadata": {},
   "outputs": [],
   "source": [
    "config_list = []\n",
    "\n",
    "for m in [\"euclidean\", \"minkowski\", \"canberra\", \"braycurtis\", \"mahalanobis\", \"seuclidean\", \"cosine\",  \"correlation\"]:\n",
    "    config_list.append(UMAP_config(metric=m))\n"
   ]
  },
  {
   "cell_type": "code",
   "execution_count": 6,
   "metadata": {},
   "outputs": [],
   "source": [
    "for conf in config_list:\n",
    "    try:\n",
    "        mapper = umap.UMAP(\n",
    "            n_neighbors = conf.n_neighbors,\n",
    "            min_dist = conf.min_dist,\n",
    "            metric = conf.metric\n",
    "        ).fit(encodings_data.data)\n",
    "        umap.plot.points(mapper, labels=encodings_data.labels, color_key_cmap='Paired', background='black')\n",
    "    except:\n",
    "        # had to catch some ZeroDivision Errors in a previous configuration setup\n",
    "        pass"
   ]
  }
 ],
 "metadata": {
  "kernelspec": {
   "display_name": "base",
   "language": "python",
   "name": "python3"
  },
  "language_info": {
   "codemirror_mode": {
    "name": "ipython",
    "version": 3
   },
   "file_extension": ".py",
   "mimetype": "text/x-python",
   "name": "python",
   "nbconvert_exporter": "python",
   "pygments_lexer": "ipython3",
   "version": "3.11.5"
  }
 },
 "nbformat": 4,
 "nbformat_minor": 2
}
