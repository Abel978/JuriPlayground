{
 "cells": [
  {
   "cell_type": "markdown",
   "metadata": {},
   "source": [
    "The L2 Norm describes the length of a vector in an n-dimensional space.\n",
    "\n",
    "A hint, that the sa-encodings are indeed on a different sphere (or sphere like) surface in the n-dimensional space than the g-encodings gives the following script."
   ]
  },
  {
   "cell_type": "code",
   "execution_count": 1,
   "metadata": {},
   "outputs": [
    {
     "name": "stdout",
     "output_type": "stream",
     "text": [
      "Mean L2-Norm of sa-encodings: 11.976924896240234 with variance 2.634559154510498\n",
      "Mean L2-Norm of g-encodings: 5.813015460968018 with variance 0.6300413012504578\n"
     ]
    }
   ],
   "source": [
    "import numpy as np\n",
    "\n",
    "x = np.load(\"encodings_dict.npy\", allow_pickle=True).item()\n",
    "\n",
    "sa_norms = [np.linalg.norm(y) for y in x[\"sa_encodings_zero\"]]\n",
    "g_norms = [np.linalg.norm(y) for y in x[\"g_encodings\"]]\n",
    "\n",
    "\n",
    "print(f\"Mean L2-Norm of sa-encodings: {np.mean(sa_norms)} with variance {np.var(sa_norms)}\")\n",
    "print(f\"Mean L2-Norm of g-encodings: {np.mean(g_norms)} with variance {np.var(g_norms)}\")"
   ]
  }
 ],
 "metadata": {
  "kernelspec": {
   "display_name": "base",
   "language": "python",
   "name": "python3"
  },
  "language_info": {
   "codemirror_mode": {
    "name": "ipython",
    "version": 3
   },
   "file_extension": ".py",
   "mimetype": "text/x-python",
   "name": "python",
   "nbconvert_exporter": "python",
   "pygments_lexer": "ipython3",
   "version": "3.11.5"
  }
 },
 "nbformat": 4,
 "nbformat_minor": 2
}
