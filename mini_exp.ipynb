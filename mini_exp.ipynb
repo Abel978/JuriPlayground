{
 "cells": [
  {
   "cell_type": "markdown",
   "metadata": {},
   "source": [
    "The L2 Norm describes the length of a vector in an n-dimensional space.\n",
    "\n",
    "A hint, that the sa-encodings are indeed on a different sphere (or sphere like) surface in the n-dimensional space than the g-encodings gives the following script."
   ]
  }
 ],
 "metadata": {
  "language_info": {
   "name": "python"
  }
 },
 "nbformat": 4,
 "nbformat_minor": 2
}
